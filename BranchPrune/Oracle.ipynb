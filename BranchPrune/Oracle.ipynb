{
 "cells": [
  {
   "cell_type": "markdown",
   "id": "e3f559ac-6453-48fe-8d30-ebd170bd98e2",
   "metadata": {},
   "source": [
    "# Oracle for DMDGP"
   ]
  },
  {
   "cell_type": "code",
   "execution_count": 1,
   "id": "4ab645f7-28cc-4018-87e0-38d0312a4844",
   "metadata": {},
   "outputs": [],
   "source": [
    "import numpy as np\n",
    "import pandas as pd\n",
    "import matplotlib.pyplot as plt\n",
    "%matplotlib inline"
   ]
  },
  {
   "cell_type": "code",
   "execution_count": 2,
   "id": "09159b16-4dce-48ca-92fd-75a55b6a4f60",
   "metadata": {},
   "outputs": [],
   "source": [
    "DEL = 1e-4\n",
    "EPS = 2 / 3"
   ]
  },
  {
   "cell_type": "code",
   "execution_count": 14,
   "id": "34ec157e-c02e-449e-9790-96064794b89d",
   "metadata": {},
   "outputs": [
    {
     "data": {
      "text/html": [
       "<div>\n",
       "<style scoped>\n",
       "    .dataframe tbody tr th:only-of-type {\n",
       "        vertical-align: middle;\n",
       "    }\n",
       "\n",
       "    .dataframe tbody tr th {\n",
       "        vertical-align: top;\n",
       "    }\n",
       "\n",
       "    .dataframe thead th {\n",
       "        text-align: right;\n",
       "    }\n",
       "</style>\n",
       "<table border=\"1\" class=\"dataframe\">\n",
       "  <thead>\n",
       "    <tr style=\"text-align: right;\">\n",
       "      <th></th>\n",
       "      <th>u</th>\n",
       "      <th>v</th>\n",
       "      <th>duv</th>\n",
       "    </tr>\n",
       "  </thead>\n",
       "  <tbody>\n",
       "    <tr>\n",
       "      <th>0</th>\n",
       "      <td>2</td>\n",
       "      <td>6</td>\n",
       "      <td>3.543775</td>\n",
       "    </tr>\n",
       "    <tr>\n",
       "      <th>1</th>\n",
       "      <td>1</td>\n",
       "      <td>5</td>\n",
       "      <td>3.626174</td>\n",
       "    </tr>\n",
       "    <tr>\n",
       "      <th>2</th>\n",
       "      <td>1</td>\n",
       "      <td>6</td>\n",
       "      <td>4.088372</td>\n",
       "    </tr>\n",
       "    <tr>\n",
       "      <th>3</th>\n",
       "      <td>1</td>\n",
       "      <td>2</td>\n",
       "      <td>1.526000</td>\n",
       "    </tr>\n",
       "    <tr>\n",
       "      <th>4</th>\n",
       "      <td>1</td>\n",
       "      <td>4</td>\n",
       "      <td>3.627452</td>\n",
       "    </tr>\n",
       "    <tr>\n",
       "      <th>5</th>\n",
       "      <td>3</td>\n",
       "      <td>6</td>\n",
       "      <td>3.389128</td>\n",
       "    </tr>\n",
       "    <tr>\n",
       "      <th>6</th>\n",
       "      <td>4</td>\n",
       "      <td>6</td>\n",
       "      <td>2.491390</td>\n",
       "    </tr>\n",
       "    <tr>\n",
       "      <th>7</th>\n",
       "      <td>2</td>\n",
       "      <td>5</td>\n",
       "      <td>2.578011</td>\n",
       "    </tr>\n",
       "    <tr>\n",
       "      <th>8</th>\n",
       "      <td>3</td>\n",
       "      <td>5</td>\n",
       "      <td>2.491390</td>\n",
       "    </tr>\n",
       "    <tr>\n",
       "      <th>9</th>\n",
       "      <td>3</td>\n",
       "      <td>4</td>\n",
       "      <td>1.526000</td>\n",
       "    </tr>\n",
       "    <tr>\n",
       "      <th>10</th>\n",
       "      <td>2</td>\n",
       "      <td>3</td>\n",
       "      <td>1.526000</td>\n",
       "    </tr>\n",
       "    <tr>\n",
       "      <th>11</th>\n",
       "      <td>5</td>\n",
       "      <td>6</td>\n",
       "      <td>1.526000</td>\n",
       "    </tr>\n",
       "    <tr>\n",
       "      <th>12</th>\n",
       "      <td>1</td>\n",
       "      <td>3</td>\n",
       "      <td>2.491390</td>\n",
       "    </tr>\n",
       "    <tr>\n",
       "      <th>13</th>\n",
       "      <td>4</td>\n",
       "      <td>5</td>\n",
       "      <td>1.526000</td>\n",
       "    </tr>\n",
       "    <tr>\n",
       "      <th>14</th>\n",
       "      <td>2</td>\n",
       "      <td>4</td>\n",
       "      <td>2.491390</td>\n",
       "    </tr>\n",
       "  </tbody>\n",
       "</table>\n",
       "</div>"
      ],
      "text/plain": [
       "    u  v       duv\n",
       "0   2  6  3.543775\n",
       "1   1  5  3.626174\n",
       "2   1  6  4.088372\n",
       "3   1  2  1.526000\n",
       "4   1  4  3.627452\n",
       "5   3  6  3.389128\n",
       "6   4  6  2.491390\n",
       "7   2  5  2.578011\n",
       "8   3  5  2.491390\n",
       "9   3  4  1.526000\n",
       "10  2  3  1.526000\n",
       "11  5  6  1.526000\n",
       "12  1  3  2.491390\n",
       "13  4  5  1.526000\n",
       "14  2  4  2.491390"
      ]
     },
     "execution_count": 14,
     "metadata": {},
     "output_type": "execute_result"
    }
   ],
   "source": [
    "instance = pd.read_csv('6_15.csv')\n",
    "instance"
   ]
  },
  {
   "cell_type": "code",
   "execution_count": 4,
   "id": "b5152dcc-26a7-473f-b4cd-4972296818b4",
   "metadata": {},
   "outputs": [],
   "source": [
    "n = max(instance['v']) \n",
    "m = len(instance['duv']) \n",
    "\n",
    "g = [[] for _ in range(n + 1)]\n",
    "edges = []\n",
    "prune_edges = []\n",
    "d = np.zeros((n + 1, n + 1))\n",
    "\n",
    "for i, r in instance.iterrows():\n",
    "    u = int(r['u'])\n",
    "    v = int(r['v'])\n",
    "    duv = r['duv']\n",
    "\n",
    "    g[u].append((v, duv))\n",
    "    g[v].append((u, duv))\n",
    "    edges.append((u, v, duv))\n",
    "    d[u][v] = duv\n",
    "    d[v][u] = duv\n",
    "\n",
    "    if u + 3 < v:\n",
    "        prune_edges.append((u, v))"
   ]
  },
  {
   "cell_type": "code",
   "execution_count": 5,
   "id": "60b970b0-e8f6-492a-9a39-6469f934cd82",
   "metadata": {},
   "outputs": [],
   "source": [
    "th = np.zeros(n + 1)\n",
    "for k in range(3, n + 1):\n",
    "    th[k] = np.arccos((d[k - 1][k]**2 + d[k - 2][k - 1]**2 - d[k - 2][k]**2) / (2 * d[k - 1][k] * d[k - 2][k - 1]))"
   ]
  },
  {
   "cell_type": "code",
   "execution_count": 6,
   "id": "8bd3e4fc-5c0b-464d-9b66-1f7cdbab6c78",
   "metadata": {},
   "outputs": [],
   "source": [
    "cw = np.zeros(n + 1)\n",
    "for k in range(4, n + 1):\n",
    "    rij = d[k - 3][k - 2]\n",
    "    rjk = d[k - 2][k - 1]\n",
    "    rkl = d[k - 1][k]\n",
    "    rjl = d[k - 2][k]\n",
    "    ril = d[k - 3][k]\n",
    "    st = np.sin(th[k - 1])\n",
    "    ct = np.cos(th[k - 1])\n",
    "\n",
    "    num = rij**2 + rjl**2 - ril**2 - rij * (rjl**2 + rjk**2 - rkl**2) * ct / rjk\n",
    "    den = rij * np.sqrt(4 * rjl**2 * rjk**2 - (rjl**2 + rjk**2 - rkl**2)**2) * st / rjk\n",
    "    cw[k] = num / den"
   ]
  },
  {
   "cell_type": "code",
   "execution_count": 7,
   "id": "7f4a15b4-5c10-4da0-8abd-648cef04cf4f",
   "metadata": {},
   "outputs": [],
   "source": [
    "def dist(xa, xb):\n",
    "    return np.linalg.norm(xa - xb)\n",
    "\n",
    "\n",
    "def toBin(k):\n",
    "    return format(k, 'b').zfill(n - 3)"
   ]
  },
  {
   "cell_type": "markdown",
   "id": "7b5751ac",
   "metadata": {},
   "source": [
    "## Função $h$\n",
    "\n",
    "Dado um cadidado a solução $k \\in \\left\\{0, 1, \\dots, 2^{n-3} - 1\\right\\}$, $h$ associa $k$ a uma realização $\\mathbf{x}^k = \\left( \\mathbf{x}_{1}^{k}, \\dots, \\mathbf{x}_{n}^{k}  \\right)$, onde cada $\\mathbf{x}_{i}^{k}$ é dado por:\n",
    "\n",
    "$$\n",
    "\\mathbf{x}_{i}^{k} = \\left(\\prod_{j=1}^{i} B_{j}\\right) \\begin{bmatrix}0\\\\0\\\\0\\\\1\\end{bmatrix},\n",
    "$$\n",
    "onde\n",
    "$$ B_1 = \\begin{bmatrix}\n",
    "\t\t\t1 & 0 & 0 & 0\\\\ \n",
    "\t\t\t0 & 1 & 0 & 0\\\\ \n",
    "\t\t\t0 & 0 & 1 & 0\\\\ \n",
    "\t\t\t0 & 0 & 0 & 1\n",
    "\t\t\\end{bmatrix},  B_2 = \\begin{bmatrix}\n",
    "\t\t\t-1 & 0 & 0 & -d_{1,2}\\\\ \n",
    "\t\t\t0 & 1 & 0 & 0\\\\ \n",
    "\t\t\t0 & 0 & -1 & 0\\\\ \n",
    "\t\t\t0 & 0 & 0 & 1\n",
    "\t\t\\end{bmatrix},\n",
    "B_3 = \\begin{bmatrix}\n",
    "\t\t\t-\\cos \\theta_{1,3} & -\\sin\\theta_{1,3}  & 0 & -d_{2,3} \\cos \\theta_{1,3} \\\\\n",
    "\t\t\t\\sin \\theta_{1,3}  & -\\cos \\theta_{1,3} & 0 & d_{2,3}\\sin\\theta_{1,3}    \\\\\n",
    "\t\t\t0                  & 0                  & 1 & 0                          \\\\\n",
    "\t\t\t0                  & 0                  & 0 & 1\n",
    "\t\t\\end{bmatrix}$$ e $$ B_i = \\begin{bmatrix}\n",
    "\t\t\t-\\text{c}( \\theta_i)                   & -\\text{s}( \\theta_i)                     & 0                       & -d_{i-1,i}\\text{c}( \\theta_i)                  \\\\\n",
    "\t\t\t\\text{s}( \\theta_i) \\text{c}(\\omega_i) & -\\text{c}( \\theta_i) \\text{c}( \\omega_i) & - \\text{s}( \\omega_i)   &  d_{i-1,i}\\text{s}( \\theta_i) \\text{c}( \\omega_i) \\\\\n",
    "\t\t\t\\text{s}( \\theta_i) \\text{s}(\\omega_i) & -\\text{c}( \\theta_i) \\text{s}( \\omega_i) &   \\text{c}( \\omega_i)   &  d_{i-1,i}\\text{s}( \\theta_i) \\text{s}( \\omega_i) \\\\\n",
    "\t\t\t0                                      & 0                                        & 0                       & 1\n",
    "\t\t\\end{bmatrix} $$ onde\n",
    "\t\t$$\\begin{matrix}\n",
    "\t\t\t\\text{c}( \\theta_i) & = & \\cos\\theta_{i-2,i}, & \\, & \\text{s}( \\theta_i) & = & \\sin\\theta_{i-2,i} \\\\\n",
    "\t\t\t\\text{c}( \\omega_i) & = & \\cos\\omega_{i-3,i}, & \\, & \\text{s}( \\omega_i) & = & \\sin\\omega_{i-3,i}.\n",
    "\t\t\\end{matrix}\t\t\n",
    "\t\t$$\n",
    "\n",
    "O valor de $\\sin\\omega_{i-3, i} = \\pm \\sqrt{ 1 - \\cos^2\\omega_{i-3,i} }$ é definido a partir de $k$ em sua representação binária. "
   ]
  },
  {
   "cell_type": "code",
   "execution_count": 8,
   "id": "80ef7db6-798c-4f47-ae6c-e367178939e9",
   "metadata": {},
   "outputs": [],
   "source": [
    "def h(k):\n",
    "    X = np.zeros((n + 1, 4))\n",
    "    X[1] = np.array([0, 0, 0, 1])\n",
    "    X[2] = np.array([-d[1][2], 0, 0, 1])\n",
    "    X[3] = np.array([-d[1][2] + d[2][3] * np.cos(th[3]), d[2][3] * np.sin(th[3]), 0, 1])\n",
    "\n",
    "    B2 = np.array([[-1, 0, 0, -d[1][2]],\n",
    "                   [0, 1, 0, 0], \n",
    "                   [0, 0, -1, 0],\n",
    "                   [0, 0, 0, 1]])\n",
    "    ct = np.cos(th[3])\n",
    "    st = np.sin(th[3])\n",
    "    di = d[2][3]\n",
    "    B3 = np.array([[-ct, -st, 0, -di * ct], \n",
    "                   [st, -ct, 0, di * st],\n",
    "                   [0, 0, 1, 0], \n",
    "                   [0, 0, 0, 1]])\n",
    "    B = B2 @ B3\n",
    "\n",
    "    for i in range(4, n + 1):\n",
    "        sgn = 1\n",
    "        if k & (1 << (n - i)) == 0:\n",
    "            sgn = 0\n",
    "\n",
    "        ct, st = np.cos(th[i]), np.sin(th[i])\n",
    "        di = d[i - 1][i]\n",
    "        sw = (-1)**sgn * np.sqrt(1 - cw[i]**2)\n",
    "\n",
    "        Bi = np.array([[-ct, -st, 0, -di * ct],\n",
    "                       [st * cw[i], -ct * cw[i], -sw, di * st * cw[i]],\n",
    "                       [st * sw, -ct * sw, cw[i], di * st * sw], \n",
    "                       [0, 0, 0, 1]])\n",
    "        B = B @ Bi\n",
    "        X[i] = B @ X[1]\n",
    "\n",
    "    return X[:, :-1]"
   ]
  },
  {
   "cell_type": "markdown",
   "id": "ff38253a-2ff6-4a03-baa8-903063243277",
   "metadata": {},
   "source": [
    "## Função $g$\n",
    "\n",
    "Dada uma realização $\\mathbf{x} = (\\mathbf{x}_1, \\mathbf{x}_2, \\dots, \\mathbf{x}_2)$, $g$ é definida como:\n",
    "\n",
    "$$ g(\\mathbf{x}) = \\sum_{(u,v) \\in E} \\left( \\left\\lVert \\mathbf{x}_u - \\mathbf{x}_v \\right\\rVert^2   - d_{u,v}^2 \\right)^2 $$"
   ]
  },
  {
   "cell_type": "code",
   "execution_count": 9,
   "id": "42aec9d2-e174-4dd5-8b7a-c07cc818b081",
   "metadata": {},
   "outputs": [],
   "source": [
    "def g(X):\n",
    "    return np.sum([(dist(X[e[0]], X[e[1]])**2 - e[2]**2)**2 for e in edges])"
   ]
  },
  {
   "cell_type": "markdown",
   "id": "bd3920a3-7fac-4100-8421-1b34881d7f26",
   "metadata": {},
   "source": [
    "## Função $\\varphi$\n",
    "\n",
    "Seja $\\varphi : I \\subseteq \\mathbb{R} \\to [0,1]$ satisfazendo:\n",
    "\n",
    " - $\\varphi$ é estritamente crescente;\n",
    " - $\\varphi(\\delta) = 1 - \\varepsilon$.\n",
    " \n",
    "Então\n",
    "    $$ f(k) = 1 - \\left\\lfloor \\varphi(g(h(k))) + \\varepsilon \\right\\rfloor $$\n",
    "define um oráculo para o DMDGP. "
   ]
  },
  {
   "cell_type": "code",
   "execution_count": 10,
   "id": "f2982eb9-d18b-47a0-a2a7-4f7c2fe2fe8c",
   "metadata": {},
   "outputs": [],
   "source": [
    "def phi(xi, caso=0):\n",
    "    if caso == 1:\n",
    "        p1 = 6**4 * (n**6 + n**2)\n",
    "        p2 = np.log(DEL / p1) / np.log(1 - EPS)\n",
    "        return (xi / p1)**(1 / p2)\n",
    "    if caso == 2:\n",
    "        return np.arctan(xi - DEL + np.tan(np.pi * (1 / 2 - EPS))) / np.pi + 1 / 2\n",
    "\n",
    "    return 1 / (1 + (EPS / (1 - EPS)) * np.exp(DEL - xi))"
   ]
  },
  {
   "cell_type": "code",
   "execution_count": 11,
   "id": "264ab4d7-1729-425c-83c1-a1c28f582045",
   "metadata": {},
   "outputs": [],
   "source": [
    "def f(k):\n",
    "    xi = g(h(k))\n",
    "    return int(1 - np.floor(phi(xi) + EPS))"
   ]
  },
  {
   "cell_type": "markdown",
   "id": "a179da87-506c-4014-a467-6cc00542493e",
   "metadata": {},
   "source": [
    "## Encontrando a solução"
   ]
  },
  {
   "cell_type": "code",
   "execution_count": 13,
   "id": "96e82325-470c-4293-a313-7b2202a33bd5",
   "metadata": {},
   "outputs": [
    {
     "name": "stdout",
     "output_type": "stream",
     "text": [
      "f(000) = 0\n",
      "f(001) = 0\n",
      "f(010) = 0\n",
      "f(011) = 1\n",
      "f(100) = 1\n",
      "f(101) = 0\n",
      "f(110) = 0\n",
      "f(111) = 0\n"
     ]
    }
   ],
   "source": [
    "for k in range(1 << (n - 3)):\n",
    "    fk = f(k)\n",
    "    print(\"f(%s) = %d\" % (toBin(k), fk))\n",
    "\n",
    "#     if fk == 1:\n",
    "#         print(h(k)[1:])"
   ]
  },
  {
   "cell_type": "code",
   "execution_count": null,
   "id": "457eee31-4ab5-46fc-aeeb-6daec2b2a201",
   "metadata": {},
   "outputs": [],
   "source": []
  }
 ],
 "metadata": {
  "kernelspec": {
   "display_name": "Python 3",
   "language": "python",
   "name": "python3"
  },
  "language_info": {
   "codemirror_mode": {
    "name": "ipython",
    "version": 3
   },
   "file_extension": ".py",
   "mimetype": "text/x-python",
   "name": "python",
   "nbconvert_exporter": "python",
   "pygments_lexer": "ipython3",
   "version": "3.7.10"
  }
 },
 "nbformat": 4,
 "nbformat_minor": 5
}
